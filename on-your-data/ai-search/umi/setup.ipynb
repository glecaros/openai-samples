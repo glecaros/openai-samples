{
 "cells": [
  {
   "cell_type": "markdown",
   "metadata": {},
   "source": [
    "## Using Azure OpenAI with Azure AI Search with User Assigned Identity"
   ]
  },
  {
   "cell_type": "markdown",
   "metadata": {},
   "source": [
    "Before we start we need to login using the Azure CLI."
   ]
  },
  {
   "cell_type": "code",
   "execution_count": null,
   "metadata": {
    "vscode": {
     "languageId": "shellscript"
    }
   },
   "outputs": [],
   "source": [
    "az login"
   ]
  },
  {
   "cell_type": "markdown",
   "metadata": {},
   "source": [
    "With that done we need to define some variables for us to continue"
   ]
  },
  {
   "cell_type": "code",
   "execution_count": null,
   "metadata": {
    "vscode": {
     "languageId": "shellscript"
    }
   },
   "outputs": [],
   "source": [
    "resource_group_name=\"openai-sample-rg\"\n",
    "openai_resource_name=\"openai-sample-umi\"\n",
    "openai_deployment_model=\"gpt-4o\"\n",
    "openai_deployment_name=\"gpt-4o\"\n",
    "# Capacity in thousands of tokens per minute\n",
    "openai_deployment_capacity=\"150\"\n",
    "azure_ai_search_name=\"openai-sample-search\"\n",
    "azure_ai_search_datasource_name=\"openai-sample-datasource\"\n",
    "azure_ai_search_index_name=\"openai-sample-index\"\n",
    "azure_ai_search_indexer_name=\"openai-sample-indexer\"\n",
    "storage_account_name=\"openaisamplestorage\"\n",
    "storage_file_share_name=\"openaisamplefileshare\"\n",
    "identity_name=\"openai-sample-identity\"\n",
    "location=\"eastus\"\n"
   ]
  },
  {
   "cell_type": "markdown",
   "metadata": {},
   "source": [
    "1. Create a Resource Group\n",
    "\n",
    "We need to create a resource group to put all of the resources we will create"
   ]
  },
  {
   "cell_type": "code",
   "execution_count": null,
   "metadata": {
    "vscode": {
     "languageId": "shellscript"
    }
   },
   "outputs": [],
   "source": [
    "az group create \\\n",
    "    --name $resource_group_name \\\n",
    "    --location $location"
   ]
  },
  {
   "cell_type": "markdown",
   "metadata": {},
   "source": [
    "2. Create an Azure OpenAI resource\n"
   ]
  },
  {
   "cell_type": "code",
   "execution_count": null,
   "metadata": {
    "vscode": {
     "languageId": "shellscript"
    }
   },
   "outputs": [],
   "source": [
    "az cognitiveservices account create \\\n",
    "    --name $openai_resource_name \\\n",
    "    --resource-group $resource_group_name \\\n",
    "    --custom-domain $openai_resource_name \\\n",
    "    --location $location \\\n",
    "    --kind OpenAI \\\n",
    "    --sku s0"
   ]
  },
  {
   "cell_type": "markdown",
   "metadata": {},
   "source": [
    "3. Get Azure OpenAI resource endpoint"
   ]
  },
  {
   "cell_type": "code",
   "execution_count": null,
   "metadata": {
    "vscode": {
     "languageId": "shellscript"
    }
   },
   "outputs": [],
   "source": [
    "azure_openai_endpoint=`az cognitiveservices account show \\\n",
    "    --name $openai_resource_name \\\n",
    "    --resource-group  $resource_group_name \\\n",
    "    | jq -r .properties.endpoint`\n",
    "echo $azure_openai_endpoint"
   ]
  },
  {
   "cell_type": "markdown",
   "metadata": {},
   "source": [
    "With that done save the endpoint to your `.env` file in the `AZURE_OPENAI_ENDPOINT` variable."
   ]
  },
  {
   "cell_type": "markdown",
   "metadata": {},
   "source": [
    "4. Deploy a model"
   ]
  },
  {
   "cell_type": "code",
   "execution_count": null,
   "metadata": {
    "vscode": {
     "languageId": "shellscript"
    }
   },
   "outputs": [],
   "source": [
    "az cognitiveservices account deployment create \\\n",
    "    --name $openai_resource_name \\\n",
    "    --resource-group  $resource_group_name \\\n",
    "    --deployment-name $openai_deployment_name \\\n",
    "    --model-name $openai_deployment_model \\\n",
    "    --model-version \"2024-05-13\" \\\n",
    "    --model-format OpenAI \\\n",
    "    --capacity $openai_deployment_capacity \\\n",
    "    --sku-name \"Standard\""
   ]
  },
  {
   "cell_type": "markdown",
   "metadata": {},
   "source": [
    "Save your deployment name to your `.env` file in the `AZURE_OPENAI_DEPLOYMENT` variable."
   ]
  },
  {
   "cell_type": "markdown",
   "metadata": {},
   "source": [
    "5. Assign the `Cognitive Services OpenAI Contributor` role to your account."
   ]
  },
  {
   "cell_type": "markdown",
   "metadata": {},
   "source": [
    "First, we find the id for the role."
   ]
  },
  {
   "cell_type": "code",
   "execution_count": null,
   "metadata": {
    "vscode": {
     "languageId": "shellscript"
    }
   },
   "outputs": [],
   "source": [
    "openai_contributor_role_id=`az role definition list \\\n",
    "    --query \"[?roleName=='Cognitive Services OpenAI Contributor'].{id:id}\" \\\n",
    "    | jq -r .[0].id`\n",
    "echo $openai_contributor_role_id"
   ]
  },
  {
   "cell_type": "markdown",
   "metadata": {},
   "source": [
    "We also need the id of the Azure OpenAI resource."
   ]
  },
  {
   "cell_type": "code",
   "execution_count": null,
   "metadata": {
    "vscode": {
     "languageId": "shellscript"
    }
   },
   "outputs": [],
   "source": [
    "openai_resource_id=`az resource show \\\n",
    "    --name $openai_resource_name \\\n",
    "    --resource-group $resource_group_name \\\n",
    "    --resource-type Microsoft.CognitiveServices/accounts \\\n",
    "    | jq -r .id`\n",
    "echo $openai_resource_id"
   ]
  },
  {
   "cell_type": "markdown",
   "metadata": {},
   "source": [
    "Finally, we create the assignment"
   ]
  },
  {
   "cell_type": "code",
   "execution_count": null,
   "metadata": {
    "vscode": {
     "languageId": "shellscript"
    }
   },
   "outputs": [],
   "source": [
    "user_id=`az ad signed-in-user show \\\n",
    "    | jq -r .id`\n",
    "\n",
    "az role assignment create \\\n",
    "    --assignee $user_id \\\n",
    "    --role $openai_contributor_role_id \\\n",
    "    --scope $openai_resource_id"
   ]
  },
  {
   "cell_type": "markdown",
   "metadata": {},
   "source": [
    "6. Create a storage account"
   ]
  },
  {
   "cell_type": "code",
   "execution_count": null,
   "metadata": {
    "vscode": {
     "languageId": "shellscript"
    }
   },
   "outputs": [],
   "source": [
    "az storage account create \\\n",
    "    --resource-group $resource_group_name \\\n",
    "    --name $storage_account_name \\\n",
    "    --location $location \\\n",
    "    --kind StorageV2 \\\n",
    "    --sku Standard_LRS \\\n",
    "    --enable-large-file-share \\\n",
    "    --output none"
   ]
  },
  {
   "cell_type": "markdown",
   "metadata": {},
   "source": [
    "Once created, get the connection string for it."
   ]
  },
  {
   "cell_type": "code",
   "execution_count": null,
   "metadata": {
    "vscode": {
     "languageId": "shellscript"
    }
   },
   "outputs": [],
   "source": [
    "storage_connection_string=`az storage account show-connection-string \\\n",
    "    --name $storage_account_name \\\n",
    "    --resource-group $resource_group_name \\\n",
    "    | jq -r .connectionString`\n",
    "echo $storage_connection_string"
   ]
  },
  {
   "cell_type": "markdown",
   "metadata": {},
   "source": [
    "7. Create an Azure File Share"
   ]
  },
  {
   "cell_type": "code",
   "execution_count": null,
   "metadata": {
    "vscode": {
     "languageId": "shellscript"
    }
   },
   "outputs": [],
   "source": [
    "az storage share-rm create \\\n",
    "    --resource-group $resource_group_name \\\n",
    "    --storage-account $storage_account_name \\\n",
    "    --name $storage_file_share_name \\\n",
    "    --quota 1024 \\\n",
    "    --enabled-protocols SMB \\\n",
    "    --output none"
   ]
  },
  {
   "cell_type": "markdown",
   "metadata": {},
   "source": [
    "8. Create a directory and upload the file you want to interact with"
   ]
  },
  {
   "cell_type": "code",
   "execution_count": null,
   "metadata": {
    "vscode": {
     "languageId": "shellscript"
    }
   },
   "outputs": [],
   "source": [
    "az storage directory create \\\n",
    "   --account-name $storage_account_name \\\n",
    "   --connection-string $storage_connection_string \\\n",
    "   --share-name $storage_file_share_name \\\n",
    "   --name \"files\" \\\n",
    "   --output none"
   ]
  },
  {
   "cell_type": "markdown",
   "metadata": {},
   "source": [
    "And then upload the file to the directory we just created."
   ]
  },
  {
   "cell_type": "code",
   "execution_count": null,
   "metadata": {
    "vscode": {
     "languageId": "shellscript"
    }
   },
   "outputs": [],
   "source": [
    "az storage file upload \\\n",
    "    --account-name $storage_account_name \\\n",
    "    --connection-string $storage_connection_string \\\n",
    "    --share-name $storage_file_share_name \\\n",
    "    --source \"../../../data/Benefit_Options.pdf\" \\\n",
    "    --path \"files/Benefit_Options.pdf\""
   ]
  },
  {
   "cell_type": "markdown",
   "metadata": {},
   "source": [
    "9. Create your Azure AI Search resource"
   ]
  },
  {
   "cell_type": "code",
   "execution_count": null,
   "metadata": {
    "vscode": {
     "languageId": "shellscript"
    }
   },
   "outputs": [],
   "source": [
    "az search service create \\\n",
    "    --name $azure_ai_search_name \\\n",
    "    --resource-group $resource_group_name \\\n",
    "    --sku Standard \\\n",
    "    --partition-count 1 \\\n",
    "    --replica-count 1"
   ]
  },
  {
   "cell_type": "markdown",
   "metadata": {},
   "source": [
    "Note that this could take a long time."
   ]
  },
  {
   "cell_type": "markdown",
   "metadata": {},
   "source": [
    "Once created we save the id and the endpoint of the search resource."
   ]
  },
  {
   "cell_type": "code",
   "execution_count": null,
   "metadata": {
    "vscode": {
     "languageId": "shellscript"
    }
   },
   "outputs": [],
   "source": [
    "azure_ai_search_id=`az search service show \\\n",
    "    --name $azure_ai_search_name \\\n",
    "    --resource-group $resource_group_name \\\n",
    "    | jq -r .id`\n",
    "\n",
    "echo $azure_ai_search_id\n",
    "\n",
    "azure_ai_search_endpoint=\"https://$azure_ai_search_name.search.windows.net\"\n",
    "echo $azure_ai_search_endpoint"
   ]
  },
  {
   "cell_type": "markdown",
   "metadata": {},
   "source": [
    "10. Obtain the Azure AI Search resource admin key"
   ]
  },
  {
   "cell_type": "code",
   "execution_count": null,
   "metadata": {
    "vscode": {
     "languageId": "shellscript"
    }
   },
   "outputs": [],
   "source": [
    "admin_key=`az search admin-key show \\\n",
    "    --service-name $azure_ai_search_name \\\n",
    "    --resource-group $resource_group_name \\\n",
    "    | jq -r .primaryKey`\n"
   ]
  },
  {
   "cell_type": "markdown",
   "metadata": {},
   "source": [
    "11. Create a data source"
   ]
  },
  {
   "cell_type": "code",
   "execution_count": null,
   "metadata": {
    "vscode": {
     "languageId": "shellscript"
    }
   },
   "outputs": [],
   "source": [
    "request='{\n",
    "    \"name\": \"'${azure_ai_search_datasource_name}'\",\n",
    "    \"type\": \"azurefile\",\n",
    "    \"credentials\": {\n",
    "        \"connectionString\": \"'${storage_connection_string}'\"\n",
    "    },\n",
    "    \"container\": {\n",
    "        \"name\": \"'${storage_file_share_name}'\",\n",
    "        \"query\" : \"files\"\n",
    "    }\n",
    "}'\n",
    "\n",
    "curl -X POST \\\n",
    "    -H \"Content-Type: application/json\" \\\n",
    "    -H \"api-key: $admin_key\" \\\n",
    "    --data-binary \"$request\" \\\n",
    "    \"$azure_ai_search_endpoint/datasources?api-version=2024-05-01-preview\"\n",
    "\n"
   ]
  },
  {
   "cell_type": "markdown",
   "metadata": {},
   "source": [
    "12. Create an index"
   ]
  },
  {
   "cell_type": "code",
   "execution_count": null,
   "metadata": {
    "vscode": {
     "languageId": "shellscript"
    }
   },
   "outputs": [],
   "source": [
    "request='{\n",
    "  \"name\" : \"'${azure_ai_search_index_name}'\",\n",
    "  \"fields\": [\n",
    "      { \"name\": \"ID\", \"type\": \"Edm.String\", \"key\": true, \"searchable\": false },\n",
    "      { \"name\": \"content\", \"type\": \"Edm.String\", \"searchable\": true, \"filterable\": false },\n",
    "      { \"name\": \"metadata_storage_name\", \"type\": \"Edm.String\", \"searchable\": false, \"filterable\": true, \"sortable\": true  },\n",
    "      { \"name\": \"metadata_storage_path\", \"type\": \"Edm.String\", \"searchable\": false, \"filterable\": true, \"sortable\": true },\n",
    "      { \"name\": \"metadata_storage_size\", \"type\": \"Edm.Int64\", \"searchable\": false, \"filterable\": true, \"sortable\": true  },\n",
    "      { \"name\": \"metadata_storage_content_type\", \"type\": \"Edm.String\", \"searchable\": true, \"filterable\": true, \"sortable\": true }\n",
    "  ]\n",
    "}'\n",
    "\n",
    "curl -X POST \\\n",
    "    -H \"Content-Type: application/json\" \\\n",
    "    -H \"api-key: $admin_key\" \\\n",
    "    --data-binary \"$request\" \\\n",
    "    \"$azure_ai_search_endpoint/indexes?api-version=2023-11-01\""
   ]
  },
  {
   "cell_type": "markdown",
   "metadata": {},
   "source": [
    "13. Create the indexer"
   ]
  },
  {
   "cell_type": "code",
   "execution_count": null,
   "metadata": {
    "vscode": {
     "languageId": "shellscript"
    }
   },
   "outputs": [],
   "source": [
    "request='{\n",
    "  \"name\" : \"'${azure_ai_search_indexer_name}'\",\n",
    "  \"dataSourceName\" : \"'${azure_ai_search_datasource_name}'\",\n",
    "  \"targetIndexName\" : \"'${azure_ai_search_index_name}'\",\n",
    "  \"parameters\": {\n",
    "     \"batchSize\": null,\n",
    "     \"maxFailedItems\": null,\n",
    "     \"maxFailedItemsPerBatch\": null,\n",
    "     \"base64EncodeKeys\": null,\n",
    "     \"configuration\": {\n",
    "        \"indexedFileNameExtensions\" : \".pdf,.docx\",\n",
    "        \"excludedFileNameExtensions\" : \".png,.jpeg\"\n",
    "    }\n",
    "  },\n",
    "  \"schedule\" : { },\n",
    "  \"fieldMappings\" : [ ]\n",
    "}'\n",
    "\n",
    "curl -X POST \\\n",
    "    -H \"Content-Type: application/json\" \\\n",
    "    -H \"api-key: $admin_key\" \\\n",
    "    --data-binary \"$request\" \\\n",
    "    \"$azure_ai_search_endpoint/indexers?api-version=2023-11-01\""
   ]
  },
  {
   "cell_type": "markdown",
   "metadata": {},
   "source": [
    "14. Create an identity"
   ]
  },
  {
   "cell_type": "code",
   "execution_count": null,
   "metadata": {
    "vscode": {
     "languageId": "shellscript"
    }
   },
   "outputs": [],
   "source": [
    "az identity create \\\n",
    "    --resource-group $resource_group_name \\\n",
    "    --name $identity_name"
   ]
  },
  {
   "cell_type": "markdown",
   "metadata": {},
   "source": [
    "Once created get the principal id and the id."
   ]
  },
  {
   "cell_type": "code",
   "execution_count": null,
   "metadata": {
    "vscode": {
     "languageId": "shellscript"
    }
   },
   "outputs": [],
   "source": [
    "identity_info=`az identity show \\\n",
    "    --resource-group $resource_group_name \\\n",
    "    --name $identity_name`\n",
    "\n",
    "identity_principal_id=`echo $identity_info | jq -r .principalId`\n",
    "echo $identity_principal_id\n",
    "\n",
    "identity_id=`echo $identity_info | jq -r .id`\n",
    "echo $identity_id\n"
   ]
  },
  {
   "cell_type": "markdown",
   "metadata": {},
   "source": [
    "Save the id to your `.env` file in the variable `MANAGED_IDENTITY_RESOURCE_ID`."
   ]
  },
  {
   "cell_type": "markdown",
   "metadata": {},
   "source": [
    "15. Assign the identity to your Azure OpenAI resource"
   ]
  },
  {
   "cell_type": "code",
   "execution_count": null,
   "metadata": {
    "vscode": {
     "languageId": "shellscript"
    }
   },
   "outputs": [],
   "source": [
    "request='{\n",
    "    \"identity\": {\n",
    "        \"type\": \"UserAssigned\",\n",
    "        \"userAssignedIdentities\": {\n",
    "            \"'${identity_id}'\": {}\n",
    "        }\n",
    "    }\n",
    "}'\n",
    "\n",
    "az rest \\\n",
    "    --method patch \\\n",
    "    --uri https://management.azure.com${openai_resource_id}?api-version=2023-05-01 \\\n",
    "    --body \"$request\"\n"
   ]
  },
  {
   "cell_type": "markdown",
   "metadata": {},
   "source": [
    "16. Enable EntraId auth in your search resource"
   ]
  },
  {
   "cell_type": "code",
   "execution_count": null,
   "metadata": {
    "vscode": {
     "languageId": "shellscript"
    }
   },
   "outputs": [],
   "source": [
    "az search service update \\\n",
    "    --name $azure_ai_search_name \\\n",
    "    --resource-group $resource_group_name \\\n",
    "    --auth-options aadOrApiKey \\\n",
    "    --aad-auth-failure-mode http401WithBearerChallenge"
   ]
  },
  {
   "cell_type": "markdown",
   "metadata": {},
   "source": [
    "17. Assign the `Search Service Contributor` role to your identity."
   ]
  },
  {
   "cell_type": "code",
   "execution_count": null,
   "metadata": {
    "vscode": {
     "languageId": "shellscript"
    }
   },
   "outputs": [],
   "source": [
    "role_id=`az role definition list \\\n",
    "    --query \"[?roleName=='Search Service Contributor'].{id:id}\" \\\n",
    "    | jq -r \".[0].id\"`\n",
    "az role assignment create \\\n",
    "    --assignee $identity_principal_id \\\n",
    "    --role $role_id \\\n",
    "    --scope $azure_ai_search_id"
   ]
  }
 ],
 "metadata": {
  "kernelspec": {
   "display_name": "Bash",
   "language": "bash",
   "name": "bash"
  },
  "language_info": {
   "codemirror_mode": "shell",
   "file_extension": ".sh",
   "mimetype": "text/x-sh",
   "name": "bash"
  }
 },
 "nbformat": 4,
 "nbformat_minor": 2
}
